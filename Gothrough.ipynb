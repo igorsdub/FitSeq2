{
 "cells": [
  {
   "cell_type": "code",
   "execution_count": 1,
   "id": "718c9f3d-dfe8-47a2-a68c-ac89b7520aa7",
   "metadata": {},
   "outputs": [
    {
     "name": "stderr",
     "output_type": "stream",
     "text": [
      "100%|██████████████████████████████████████████| 21/21 [00:00<00:00, 58.74it/s]\n"
     ]
    },
    {
     "data": {
      "text/plain": [
       "0"
      ]
     },
     "execution_count": 1,
     "metadata": {},
     "output_type": "execute_result"
    }
   ],
   "source": [
    "import sys\n",
    "sys.path.append('./src/')\n",
    "import GrowthSimulation\n",
    "import os\n",
    "\n",
    "dir_input = './example/'\n",
    "dir_output = './example/'\n",
    "command = f'python3 src/GrowthSimulation.py -t {dir_input}simu_input_time_points.csv -s {dir_input}simu_input_fitness.csv -o {dir_output}simu_output'\n",
    "os.system(command)\n"
   ]
  },
  {
   "cell_type": "code",
   "execution_count": 3,
   "id": "20423328-8dae-4f69-9744-9795d4013873",
   "metadata": {},
   "outputs": [
    {
     "name": "stdout",
     "output_type": "stream",
     "text": [
      "--- iteration 1 ...\n"
     ]
    },
    {
     "name": "stderr",
     "output_type": "stream",
     "text": [
      "100%|█████████████████████████████████████| 1000/1000 [00:04<00:00, 227.25it/s]\n"
     ]
    },
    {
     "name": "stdout",
     "output_type": "stream",
     "text": [
      "    computing time: 6.10486 seconds\n",
      "--- iteration 2 ...\n"
     ]
    },
    {
     "name": "stderr",
     "output_type": "stream",
     "text": [
      "100%|█████████████████████████████████████| 1000/1000 [00:04<00:00, 214.10it/s]\n"
     ]
    },
    {
     "name": "stdout",
     "output_type": "stream",
     "text": [
      "6079.618331905542\n",
      "    computing time: 6.48705 seconds\n",
      "--- iteration 3 ...\n"
     ]
    },
    {
     "name": "stderr",
     "output_type": "stream",
     "text": [
      "100%|█████████████████████████████████████| 1000/1000 [00:04<00:00, 209.28it/s]\n"
     ]
    },
    {
     "name": "stdout",
     "output_type": "stream",
     "text": [
      "676.2553687833542\n",
      "    computing time: 6.65473 seconds\n",
      "Total computing time: 19.24681 seconds\n"
     ]
    },
    {
     "data": {
      "text/plain": [
       "0"
      ]
     },
     "execution_count": 3,
     "metadata": {},
     "output_type": "execute_result"
    }
   ],
   "source": [
    "import os\n",
    "\n",
    "dir_input = './example/'\n",
    "dir_output = './example/'\n",
    "\n",
    "command = f'python3 src/FitSeq2.py -i {dir_input}simu_output_2_EvoSimulation_Read_Number.csv -t {dir_input}fitseq2_input_time_points.csv -dt 4 -n 3 -o {dir_output}output -p 1'\n",
    "# print(command)\n",
    "os.system(command)"
   ]
  },
  {
   "cell_type": "code",
   "execution_count": 4,
   "id": "9b18027e-c27a-4b48-b488-8f9c59c2540b",
   "metadata": {},
   "outputs": [
    {
     "name": "stdout",
     "output_type": "stream",
     "text": [
      "--- iteration 1 ...\n"
     ]
    },
    {
     "name": "stderr",
     "output_type": "stream",
     "text": [
      "100%|████████████████████████████████████| 1000/1000 [00:00<00:00, 7207.98it/s]\n",
      "  0%|                                                 | 0/1000 [00:00<?, ?it/s]"
     ]
    },
    {
     "name": "stdout",
     "output_type": "stream",
     "text": [
      "    computing time: 0.22787 seconds\n",
      "--- iteration 2 ...\n",
      "5678.925425106245\n",
      "    computing time: 0.18636 seconds\n",
      "--- iteration 3 ...\n"
     ]
    },
    {
     "name": "stderr",
     "output_type": "stream",
     "text": [
      "100%|████████████████████████████████████| 1000/1000 [00:00<00:00, 7597.99it/s]\n",
      " 77%|████████████████████████████▍        | 768/1000 [00:00<00:00, 7568.46it/s]"
     ]
    },
    {
     "name": "stdout",
     "output_type": "stream",
     "text": [
      "1231.4763725673984\n",
      "    computing time: 0.19097 seconds\n",
      "Total computing time: 0.60538 seconds\n"
     ]
    },
    {
     "name": "stderr",
     "output_type": "stream",
     "text": [
      "100%|████████████████████████████████████| 1000/1000 [00:00<00:00, 7539.94it/s]\n"
     ]
    },
    {
     "data": {
      "text/plain": [
       "0"
      ]
     },
     "execution_count": 4,
     "metadata": {},
     "output_type": "execute_result"
    }
   ],
   "source": [
    "import os\n",
    "\n",
    "dir_input = './example/'\n",
    "dir_output = './example/'\n",
    "\n",
    "command = f'python3 src/FitSeq.py -i {dir_input}simu_output_2_EvoSimulation_Read_Number.csv -t {dir_input}fitseq2_input_time_points.csv -n 3 -o {dir_output}output -p 1'\n",
    "\n",
    "os.system(command)"
   ]
  },
  {
   "cell_type": "code",
   "execution_count": null,
   "id": "8955362b-e1e4-47d9-8e4f-1ce873cbb9d1",
   "metadata": {},
   "outputs": [],
   "source": []
  }
 ],
 "metadata": {
  "kernelspec": {
   "display_name": "fitseq2",
   "language": "python",
   "name": "python3"
  },
  "language_info": {
   "codemirror_mode": {
    "name": "ipython",
    "version": 3
   },
   "file_extension": ".py",
   "mimetype": "text/x-python",
   "name": "python",
   "nbconvert_exporter": "python",
   "pygments_lexer": "ipython3",
   "version": "3.13.1"
  }
 },
 "nbformat": 4,
 "nbformat_minor": 5
}
