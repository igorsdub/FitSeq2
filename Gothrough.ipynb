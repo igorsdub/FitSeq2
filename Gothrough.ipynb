{
 "cells": [
  {
   "cell_type": "code",
   "execution_count": 2,
   "id": "1a1f9c50",
   "metadata": {},
   "outputs": [
    {
     "data": {
      "text/plain": [
       "0"
      ]
     },
     "execution_count": 2,
     "metadata": {},
     "output_type": "execute_result"
    }
   ],
   "source": [
    "import os\n",
    "# Source Python package paths\n",
    "os.system('source ~/.zshrc')"
   ]
  },
  {
   "cell_type": "code",
   "execution_count": 7,
   "id": "718c9f3d-dfe8-47a2-a68c-ac89b7520aa7",
   "metadata": {},
   "outputs": [
    {
     "name": "stderr",
     "output_type": "stream",
     "text": [
      "100%|██████████████████████████████████████████| 21/21 [00:03<00:00,  6.16it/s]\n"
     ]
    },
    {
     "data": {
      "text/plain": [
       "0"
      ]
     },
     "execution_count": 7,
     "metadata": {},
     "output_type": "execute_result"
    }
   ],
   "source": [
    "#import GrowthSimulation\n",
    "\n",
    "dir_input = './example/'\n",
    "dir_output = './example/'\n",
    "command = './src/GrowthSimulation.py -t {0}simu_input_time_points.csv -s {0}simu_input_fitness.csv -o {1}simu_output'.format(\n",
    "    dir_input, \n",
    "    dir_output\n",
    "    )\n",
    "os.system(command)\n"
   ]
  },
  {
   "cell_type": "code",
   "execution_count": 1,
   "id": "20423328-8dae-4f69-9744-9795d4013873",
   "metadata": {},
   "outputs": [
    {
     "name": "stdout",
     "output_type": "stream",
     "text": [
      "--- iteration 1 ...\n"
     ]
    },
    {
     "name": "stderr",
     "output_type": "stream",
     "text": [
      "Traceback (most recent call last):\n",
      "  File \u001b[35m\"/Users/igorsdubanevics/scratch/github/FitSeq2/./src/FitSeq2.py\"\u001b[0m, line \u001b[35m451\u001b[0m, in \u001b[35m<module>\u001b[0m\n",
      "    \u001b[31mmain\u001b[0m\u001b[1;31m()\u001b[0m\n",
      "    \u001b[31m~~~~\u001b[0m\u001b[1;31m^^\u001b[0m\n",
      "  File \u001b[35m\"/Users/igorsdubanevics/scratch/github/FitSeq2/./src/FitSeq2.py\"\u001b[0m, line \u001b[35m448\u001b[0m, in \u001b[35mmain\u001b[0m\n",
      "    \u001b[31mprocess\u001b[0m\u001b[1;31m(r,t,cell_depth,delta_t,c,opt_algorithm,max_iter_num,parallelize,output_prefix)\u001b[0m\n",
      "    \u001b[31m~~~~~~~\u001b[0m\u001b[1;31m^^^^^^^^^^^^^^^^^^^^^^^^^^^^^^^^^^^^^^^^^^^^^^^^^^^^^^^^^^^^^^^^^^^^^^^^^^^^^^^\u001b[0m\n",
      "  File \u001b[35m\"/Users/igorsdubanevics/scratch/github/FitSeq2/./src/FitSeq2.py\"\u001b[0m, line \u001b[35m363\u001b[0m, in \u001b[35mprocess\u001b[0m\n",
      "    \u001b[31mmy_obj.infer_fitnesses\u001b[0m\u001b[1;31m()\u001b[0m\n",
      "    \u001b[31m~~~~~~~~~~~~~~~~~~~~~~\u001b[0m\u001b[1;31m^^\u001b[0m\n",
      "  File \u001b[35m\"/Users/igorsdubanevics/scratch/github/FitSeq2/./src/FitSeq2.py\"\u001b[0m, line \u001b[35m335\u001b[0m, in \u001b[35minfer_fitnesses\u001b[0m\n",
      "    \u001b[31mself.run_iteration\u001b[0m\u001b[1;31m()\u001b[0m\n",
      "    \u001b[31m~~~~~~~~~~~~~~~~~~\u001b[0m\u001b[1;31m^^\u001b[0m\n",
      "  File \u001b[35m\"/Users/igorsdubanevics/scratch/github/FitSeq2/./src/FitSeq2.py\"\u001b[0m, line \u001b[35m241\u001b[0m, in \u001b[35mrun_iteration\u001b[0m\n",
      "    self.result_n0[i],self.result_s[i] = \u001b[31mself.optimize_n0_s\u001b[0m\u001b[1;31m(i)\u001b[0m\n",
      "                                         \u001b[31m~~~~~~~~~~~~~~~~~~\u001b[0m\u001b[1;31m^^^\u001b[0m\n",
      "  File \u001b[35m\"/Users/igorsdubanevics/scratch/github/FitSeq2/./src/FitSeq2.py\"\u001b[0m, line \u001b[35m140\u001b[0m, in \u001b[35moptimize_n0_s\u001b[0m\n",
      "    opt_output = differential_evolution(\n",
      "        func = self.objective_func,\n",
      "        seed = 1,\n",
      "        bounds = self.bounds\n",
      "        )\n",
      "  File \u001b[35m\"/opt/homebrew/Caskroom/miniforge/base/envs/fitseq2/lib/python3.13/site-packages/scipy/optimize/_differentialevolution.py\"\u001b[0m, line \u001b[35m503\u001b[0m, in \u001b[35mdifferential_evolution\u001b[0m\n",
      "    ret = solver.solve()\n",
      "  File \u001b[35m\"/opt/homebrew/Caskroom/miniforge/base/envs/fitseq2/lib/python3.13/site-packages/scipy/optimize/_differentialevolution.py\"\u001b[0m, line \u001b[35m1230\u001b[0m, in \u001b[35msolve\u001b[0m\n",
      "    result = minimize(self.func,\n",
      "                      np.copy(DE_result.x),\n",
      "                      method=polish_method,\n",
      "                      bounds=self.limits.T,\n",
      "                      constraints=self.constraints)\n",
      "  File \u001b[35m\"/opt/homebrew/Caskroom/miniforge/base/envs/fitseq2/lib/python3.13/site-packages/scipy/optimize/_minimize.py\"\u001b[0m, line \u001b[35m731\u001b[0m, in \u001b[35mminimize\u001b[0m\n",
      "    res = _minimize_lbfgsb(fun, x0, args, jac, bounds,\n",
      "                           callback=callback, **options)\n",
      "  File \u001b[35m\"/opt/homebrew/Caskroom/miniforge/base/envs/fitseq2/lib/python3.13/site-packages/scipy/optimize/_lbfgsb_py.py\"\u001b[0m, line \u001b[35m407\u001b[0m, in \u001b[35m_minimize_lbfgsb\u001b[0m\n",
      "    f, g = \u001b[31mfunc_and_grad\u001b[0m\u001b[1;31m(x)\u001b[0m\n",
      "           \u001b[31m~~~~~~~~~~~~~\u001b[0m\u001b[1;31m^^^\u001b[0m\n",
      "  File \u001b[35m\"/opt/homebrew/Caskroom/miniforge/base/envs/fitseq2/lib/python3.13/site-packages/scipy/optimize/_differentiable_functions.py\"\u001b[0m, line \u001b[35m343\u001b[0m, in \u001b[35mfun_and_grad\u001b[0m\n",
      "    \u001b[31mself._update_fun\u001b[0m\u001b[1;31m()\u001b[0m\n",
      "    \u001b[31m~~~~~~~~~~~~~~~~\u001b[0m\u001b[1;31m^^\u001b[0m\n",
      "  File \u001b[35m\"/opt/homebrew/Caskroom/miniforge/base/envs/fitseq2/lib/python3.13/site-packages/scipy/optimize/_differentiable_functions.py\"\u001b[0m, line \u001b[35m294\u001b[0m, in \u001b[35m_update_fun\u001b[0m\n",
      "    fx = self._wrapped_fun(self.x)\n",
      "  File \u001b[35m\"/opt/homebrew/Caskroom/miniforge/base/envs/fitseq2/lib/python3.13/site-packages/scipy/optimize/_differentiable_functions.py\"\u001b[0m, line \u001b[35m20\u001b[0m, in \u001b[35mwrapped\u001b[0m\n",
      "    fx = fun(np.copy(x), *args)\n",
      "  File \u001b[35m\"/opt/homebrew/Caskroom/miniforge/base/envs/fitseq2/lib/python3.13/site-packages/scipy/_lib/_util.py\"\u001b[0m, line \u001b[35m441\u001b[0m, in \u001b[35m__call__\u001b[0m\n",
      "    return \u001b[31mself.f\u001b[0m\u001b[1;31m(x, *self.args)\u001b[0m\n",
      "           \u001b[31m~~~~~~\u001b[0m\u001b[1;31m^^^^^^^^^^^^^^^\u001b[0m\n",
      "  File \u001b[35m\"/Users/igorsdubanevics/scratch/github/FitSeq2/./src/FitSeq2.py\"\u001b[0m, line \u001b[35m129\u001b[0m, in \u001b[35mobjective_func\u001b[0m\n",
      "    output = self.traj_LL(x[0], x[1])\n",
      "  File \u001b[35m\"/Users/igorsdubanevics/scratch/github/FitSeq2/./src/FitSeq2.py\"\u001b[0m, line \u001b[35m122\u001b[0m, in \u001b[35mtraj_LL\u001b[0m\n",
      "    integrand_log = \u001b[31mself.traj_LL_from_n\u001b[0m\u001b[1;31m(n0, s)\u001b[0m['optimal_value'] + r0_loglikelihood\n",
      "                    \u001b[31m~~~~~~~~~~~~~~~~~~~\u001b[0m\u001b[1;31m^^^^^^^\u001b[0m\n",
      "  File \u001b[35m\"/Users/igorsdubanevics/scratch/github/FitSeq2/./src/FitSeq2.py\"\u001b[0m, line \u001b[35m99\u001b[0m, in \u001b[35mtraj_LL_from_n\u001b[0m\n",
      "    nu_vec = np.linalg.solve(M_matrix, b_vec)\n",
      "  File \u001b[35m\"/opt/homebrew/Caskroom/miniforge/base/envs/fitseq2/lib/python3.13/site-packages/numpy/linalg/_linalg.py\"\u001b[0m, line \u001b[35m410\u001b[0m, in \u001b[35msolve\u001b[0m\n",
      "    r = gufunc(a, b, signature=signature)\n",
      "  File \u001b[35m\"/opt/homebrew/Caskroom/miniforge/base/envs/fitseq2/lib/python3.13/site-packages/numpy/linalg/_linalg.py\"\u001b[0m, line \u001b[35m104\u001b[0m, in \u001b[35m_raise_linalgerror_singular\u001b[0m\n",
      "    raise LinAlgError(\"Singular matrix\")\n",
      "\u001b[1;35mnumpy.linalg.LinAlgError\u001b[0m: \u001b[35mSingular matrix\u001b[0m\n"
     ]
    },
    {
     "data": {
      "text/plain": [
       "256"
      ]
     },
     "execution_count": 1,
     "metadata": {},
     "output_type": "execute_result"
    }
   ],
   "source": [
    "import os\n",
    "\n",
    "dir_input = './example/'\n",
    "dir_output = './example/'\n",
    "\n",
    "command = './src/FitSeq2.py -i {0}simu_output_0_EvoSimulation_Read_Number.csv -t {0}fitseq2_input_time_points.csv -dt 4 -n 2 -o {1}output'.format(\n",
    "    dir_input, \n",
    "    dir_output\n",
    "    )\n",
    "\n",
    "os.system(command)\n"
   ]
  },
  {
   "cell_type": "code",
   "execution_count": 13,
   "id": "9b18027e-c27a-4b48-b488-8f9c59c2540b",
   "metadata": {},
   "outputs": [
    {
     "name": "stdout",
     "output_type": "stream",
     "text": [
      "--- iteration 1 ...\n"
     ]
    },
    {
     "name": "stderr",
     "output_type": "stream",
     "text": [
      "100%|█████████████████████████████████| 10000/10000 [00:00<00:00, 11315.90it/s]\n"
     ]
    },
    {
     "name": "stdout",
     "output_type": "stream",
     "text": [
      "    computing time: 1.36529 seconds\n",
      "--- iteration 2 ...\n"
     ]
    },
    {
     "name": "stderr",
     "output_type": "stream",
     "text": [
      "100%|█████████████████████████████████| 10000/10000 [00:00<00:00, 10884.68it/s]\n"
     ]
    },
    {
     "name": "stdout",
     "output_type": "stream",
     "text": [
      "10080.307575790735\n",
      "    computing time: 1.37293 seconds\n",
      "--- iteration 3 ...\n"
     ]
    },
    {
     "name": "stderr",
     "output_type": "stream",
     "text": [
      "100%|█████████████████████████████████| 10000/10000 [00:00<00:00, 11012.38it/s]\n"
     ]
    },
    {
     "name": "stdout",
     "output_type": "stream",
     "text": [
      "1299.6235904944479\n",
      "    computing time: 1.38719 seconds\n",
      "Total computing time: 4.12576 seconds\n"
     ]
    },
    {
     "data": {
      "text/plain": [
       "0"
      ]
     },
     "execution_count": 13,
     "metadata": {},
     "output_type": "execute_result"
    }
   ],
   "source": [
    "import os\n",
    "\n",
    "dir_input = './example/'\n",
    "dir_output = './example/'\n",
    "\n",
    "command = './src/FitSeq.py -i {0}simu_output_0_EvoSimulation_Read_Number.csv -t {0}fitseq2_input_time_points.csv -n 3 -o {1}output'.format(\n",
    "    dir_input, \n",
    "    dir_output\n",
    "    )\n",
    "\n",
    "os.system(command)\n",
    "\n"
   ]
  },
  {
   "cell_type": "code",
   "execution_count": null,
   "id": "8955362b-e1e4-47d9-8e4f-1ce873cbb9d1",
   "metadata": {},
   "outputs": [],
   "source": []
  }
 ],
 "metadata": {
  "kernelspec": {
   "display_name": "fitseq2",
   "language": "python",
   "name": "python3"
  },
  "language_info": {
   "codemirror_mode": {
    "name": "ipython",
    "version": 3
   },
   "file_extension": ".py",
   "mimetype": "text/x-python",
   "name": "python",
   "nbconvert_exporter": "python",
   "pygments_lexer": "ipython3",
   "version": "3.13.1"
  }
 },
 "nbformat": 4,
 "nbformat_minor": 5
}
